{
 "cells": [
  {
   "cell_type": "code",
   "execution_count": 1,
   "id": "ef6e2137-cd35-42b6-bbdb-3cb0c0a3f2d7",
   "metadata": {},
   "outputs": [
    {
     "name": "stdout",
     "output_type": "stream",
     "text": [
      "Solution:  [ 0.17677633  0.0126921  -0.0206612  -1.18326429]\n"
     ]
    }
   ],
   "source": [
    "import numpy as np\n",
    "\n",
    "# 建立增廣矩陣 [A|b]\n",
    "A = np.array([\n",
    "    [1.19, 2.11, -100, 1, 1.12],\n",
    "    [14.2, -0.112, 12.2, -1, 3.44],\n",
    "    [0, 100, -99.9, 1, 2.15],\n",
    "    [15.3, 0.110, -13.1, -1, 4.16]\n",
    "], dtype=float)\n",
    "\n",
    "n = len(A)\n",
    "\n",
    "# Gaussian elimination with partial pivoting\n",
    "for i in range(n):\n",
    "    # Pivoting: find the row with the max value in current column\n",
    "    max_row = i + np.argmax(np.abs(A[i:, i]))\n",
    "    if i != max_row:\n",
    "        A[[i, max_row]] = A[[max_row, i]]  # swap rows\n",
    "\n",
    "    # Eliminate entries below the pivot\n",
    "    for j in range(i + 1, n):\n",
    "        factor = A[j][i] / A[i][i]\n",
    "        A[j, i:] -= factor * A[i, i:]\n",
    "\n",
    "# Back substitution\n",
    "x = np.zeros(n)\n",
    "for i in range(n - 1, -1, -1):\n",
    "    x[i] = (A[i, -1] - np.dot(A[i, i+1:n], x[i+1:n])) / A[i, i]\n",
    "\n",
    "print(\"Solution: \", x)\n"
   ]
  },
  {
   "cell_type": "code",
   "execution_count": 3,
   "id": "dd56fd18-ff69-4fc0-83c6-4ff812ed8df7",
   "metadata": {},
   "outputs": [
    {
     "name": "stdout",
     "output_type": "stream",
     "text": [
      "Inverse of A:\n",
      "[[ 0.27969349 -0.08045977  0.03831418 -0.01532567]\n",
      " [-0.08045977  0.37931034  0.05747126 -0.02298851]\n",
      " [ 0.03831418  0.05747126  0.21072797 -0.08429119]\n",
      " [-0.01532567 -0.02298851 -0.08429119  0.23371648]]\n"
     ]
    }
   ],
   "source": [
    "import numpy as np\n",
    "\n",
    "# 定義矩陣 A\n",
    "A = np.array([\n",
    "    [4, 1, -1, 0],\n",
    "    [1, 3, -1, 0],\n",
    "    [-1, -1, 6, 2],\n",
    "    [0, 0, 2, 5]\n",
    "], dtype=float)\n",
    "\n",
    "# 計算反矩陣\n",
    "A_inv = np.linalg.inv(A)\n",
    "\n",
    "# 顯示結果\n",
    "print(\"Inverse of A:\")\n",
    "print(A_inv)\n"
   ]
  },
  {
   "cell_type": "code",
   "execution_count": 6,
   "id": "4ade5dbc-f337-4664-99e1-f0feebf31cc8",
   "metadata": {},
   "outputs": [
    {
     "name": "stdout",
     "output_type": "stream",
     "text": [
      "Solution x: [1.43636364 2.30909091 2.49090909 1.16363636]\n"
     ]
    }
   ],
   "source": [
    "import numpy as np\n",
    "\n",
    "# 定義 A 和 b\n",
    "A = np.array([\n",
    "    [3, -1,  0,  0],\n",
    "    [-1, 3, -1,  0],\n",
    "    [0, -1, 3, -1],\n",
    "    [0,  0, -1, 3]\n",
    "], dtype=float)\n",
    "\n",
    "b = np.array([2, 3, 4, 1], dtype=float)\n",
    "\n",
    "n = len(b)\n",
    "L = np.zeros((n, n))\n",
    "U = np.identity(n)  # Crout: U has 1's on the diagonal\n",
    "\n",
    "# Crout Factorization\n",
    "for j in range(n):\n",
    "    for i in range(j, n):\n",
    "        L[i][j] = A[i][j] - sum(L[i][k] * U[k][j] for k in range(j))\n",
    "    for i in range(j+1, n):\n",
    "        U[j][i] = (A[j][i] - sum(L[j][k] * U[k][i] for k in range(j))) / L[j][j]\n",
    "\n",
    "# Forward substitution to solve L*y = b\n",
    "y = np.zeros(n)\n",
    "for i in range(n):\n",
    "    y[i] = (b[i] - sum(L[i][j] * y[j] for j in range(i))) / L[i][i]\n",
    "\n",
    "# Back substitution to solve U*x = y\n",
    "x = np.zeros(n)\n",
    "for i in range(n-1, -1, -1):\n",
    "    x[i] = y[i] - sum(U[i][j] * x[j] for j in range(i+1, n))\n",
    "\n",
    "print(\"Solution x:\", x)\n"
   ]
  }
 ],
 "metadata": {
  "kernelspec": {
   "display_name": "Python [conda env:base] *",
   "language": "python",
   "name": "conda-base-py"
  },
  "language_info": {
   "codemirror_mode": {
    "name": "ipython",
    "version": 3
   },
   "file_extension": ".py",
   "mimetype": "text/x-python",
   "name": "python",
   "nbconvert_exporter": "python",
   "pygments_lexer": "ipython3",
   "version": "3.12.7"
  }
 },
 "nbformat": 4,
 "nbformat_minor": 5
}
